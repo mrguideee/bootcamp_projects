{
 "cells":[
  {
   "cell_type":"markdown",
   "source":[
    "# Project"
   ],
   "attachments":{
    
   },
   "metadata":{
    "datalore":{
     "node_id":"Project",
     "type":"MD",
     "hide_input_from_viewers":false,
     "hide_output_from_viewers":false,
     "sheet_delimiter":true
    }
   }
  },
  {
   "cell_type":"code",
   "source":[
    
   ],
   "execution_count":null,
   "outputs":[
    
   ],
   "metadata":{
    "datalore":{
     "node_id":"Pv3I8s7kCEFUtuRi3wQQzL",
     "type":"CODE",
     "hide_input_from_viewers":true,
     "hide_output_from_viewers":true
    }
   }
  },
  {
   "cell_type":"markdown",
   "source":[
    "# Pandas Foundation - Analyzing Sales Data\n",
    "\n",
    "**Date**: 12 Feb 2023\n",
    "\n",
    "**Author**: Wiritpon Pongtrangan\n",
    "\n",
    "**Course**: `Pandas Foundation`"
   ],
   "attachments":{
    
   },
   "metadata":{
    "datalore":{
     "node_id":"BorxpcXtZKZFpIylEKEguy",
     "type":"MD",
     "hide_input_from_viewers":false,
     "hide_output_from_viewers":false,
     "report_properties":{
      "y":0
     }
    }
   }
  },
  {
   "cell_type":"code",
   "source":[
    "# import data\n",
    "import pandas as pd\n",
    "df = pd.read_csv(\"sample-store.csv\")"
   ],
   "execution_count":null,
   "outputs":[
    
   ],
   "metadata":{
    "datalore":{
     "node_id":"LHGuiegxn7Ww63ypSTrxMZ",
     "type":"CODE",
     "hide_input_from_viewers":false,
     "hide_output_from_viewers":false,
     "report_properties":{
      "y":6
     }
    }
   }
  },
  {
   "cell_type":"code",
   "source":[
    "# preview top 5 rows\n",
    "df.head()"
   ],
   "execution_count":null,
   "outputs":[
    {
     "data":{
      "text\/html":[
       "<div>\n",
       "<style scoped>\n",
       "    .dataframe tbody tr th:only-of-type {\n",
       "        vertical-align: middle;\n",
       "    }\n",
       "\n",
       "    .dataframe tbody tr th {\n",
       "        vertical-align: top;\n",
       "    }\n",
       "\n",
       "    .dataframe thead th {\n",
       "        text-align: right;\n",
       "    }\n",
       "<\/style>\n",
       "<table border=\"1\" class=\"dataframe\">\n",
       "  <thead>\n",
       "    <tr style=\"text-align: right;\">\n",
       "      <th><\/th>\n",
       "      <th>Row ID<\/th>\n",
       "      <th>Order ID<\/th>\n",
       "      <th>Order Date<\/th>\n",
       "      <th>Ship Date<\/th>\n",
       "      <th>Ship Mode<\/th>\n",
       "      <th>Customer ID<\/th>\n",
       "      <th>Customer Name<\/th>\n",
       "      <th>Segment<\/th>\n",
       "      <th>Country\/Region<\/th>\n",
       "      <th>City<\/th>\n",
       "      <th>...<\/th>\n",
       "      <th>Postal Code<\/th>\n",
       "      <th>Region<\/th>\n",
       "      <th>Product ID<\/th>\n",
       "      <th>Category<\/th>\n",
       "      <th>Sub-Category<\/th>\n",
       "      <th>Product Name<\/th>\n",
       "      <th>Sales<\/th>\n",
       "      <th>Quantity<\/th>\n",
       "      <th>Discount<\/th>\n",
       "      <th>Profit<\/th>\n",
       "    <\/tr>\n",
       "  <\/thead>\n",
       "  <tbody>\n",
       "    <tr>\n",
       "      <th>0<\/th>\n",
       "      <td>1<\/td>\n",
       "      <td>CA-2019-152156<\/td>\n",
       "      <td>11\/8\/2019<\/td>\n",
       "      <td>11\/11\/2019<\/td>\n",
       "      <td>Second Class<\/td>\n",
       "      <td>CG-12520<\/td>\n",
       "      <td>Claire Gute<\/td>\n",
       "      <td>Consumer<\/td>\n",
       "      <td>United States<\/td>\n",
       "      <td>Henderson<\/td>\n",
       "      <td>...<\/td>\n",
       "      <td>42420.0<\/td>\n",
       "      <td>South<\/td>\n",
       "      <td>FUR-BO-10001798<\/td>\n",
       "      <td>Furniture<\/td>\n",
       "      <td>Bookcases<\/td>\n",
       "      <td>Bush Somerset Collection Bookcase<\/td>\n",
       "      <td>261.9600<\/td>\n",
       "      <td>2<\/td>\n",
       "      <td>0.00<\/td>\n",
       "      <td>41.9136<\/td>\n",
       "    <\/tr>\n",
       "    <tr>\n",
       "      <th>1<\/th>\n",
       "      <td>2<\/td>\n",
       "      <td>CA-2019-152156<\/td>\n",
       "      <td>11\/8\/2019<\/td>\n",
       "      <td>11\/11\/2019<\/td>\n",
       "      <td>Second Class<\/td>\n",
       "      <td>CG-12520<\/td>\n",
       "      <td>Claire Gute<\/td>\n",
       "      <td>Consumer<\/td>\n",
       "      <td>United States<\/td>\n",
       "      <td>Henderson<\/td>\n",
       "      <td>...<\/td>\n",
       "      <td>42420.0<\/td>\n",
       "      <td>South<\/td>\n",
       "      <td>FUR-CH-10000454<\/td>\n",
       "      <td>Furniture<\/td>\n",
       "      <td>Chairs<\/td>\n",
       "      <td>Hon Deluxe Fabric Upholstered Stacking Chairs,...<\/td>\n",
       "      <td>731.9400<\/td>\n",
       "      <td>3<\/td>\n",
       "      <td>0.00<\/td>\n",
       "      <td>219.5820<\/td>\n",
       "    <\/tr>\n",
       "    <tr>\n",
       "      <th>2<\/th>\n",
       "      <td>3<\/td>\n",
       "      <td>CA-2019-138688<\/td>\n",
       "      <td>6\/12\/2019<\/td>\n",
       "      <td>6\/16\/2019<\/td>\n",
       "      <td>Second Class<\/td>\n",
       "      <td>DV-13045<\/td>\n",
       "      <td>Darrin Van Huff<\/td>\n",
       "      <td>Corporate<\/td>\n",
       "      <td>United States<\/td>\n",
       "      <td>Los Angeles<\/td>\n",
       "      <td>...<\/td>\n",
       "      <td>90036.0<\/td>\n",
       "      <td>West<\/td>\n",
       "      <td>OFF-LA-10000240<\/td>\n",
       "      <td>Office Supplies<\/td>\n",
       "      <td>Labels<\/td>\n",
       "      <td>Self-Adhesive Address Labels for Typewriters b...<\/td>\n",
       "      <td>14.6200<\/td>\n",
       "      <td>2<\/td>\n",
       "      <td>0.00<\/td>\n",
       "      <td>6.8714<\/td>\n",
       "    <\/tr>\n",
       "    <tr>\n",
       "      <th>3<\/th>\n",
       "      <td>4<\/td>\n",
       "      <td>US-2018-108966<\/td>\n",
       "      <td>10\/11\/2018<\/td>\n",
       "      <td>10\/18\/2018<\/td>\n",
       "      <td>Standard Class<\/td>\n",
       "      <td>SO-20335<\/td>\n",
       "      <td>Sean O'Donnell<\/td>\n",
       "      <td>Consumer<\/td>\n",
       "      <td>United States<\/td>\n",
       "      <td>Fort Lauderdale<\/td>\n",
       "      <td>...<\/td>\n",
       "      <td>33311.0<\/td>\n",
       "      <td>South<\/td>\n",
       "      <td>FUR-TA-10000577<\/td>\n",
       "      <td>Furniture<\/td>\n",
       "      <td>Tables<\/td>\n",
       "      <td>Bretford CR4500 Series Slim Rectangular Table<\/td>\n",
       "      <td>957.5775<\/td>\n",
       "      <td>5<\/td>\n",
       "      <td>0.45<\/td>\n",
       "      <td>-383.0310<\/td>\n",
       "    <\/tr>\n",
       "    <tr>\n",
       "      <th>4<\/th>\n",
       "      <td>5<\/td>\n",
       "      <td>US-2018-108966<\/td>\n",
       "      <td>10\/11\/2018<\/td>\n",
       "      <td>10\/18\/2018<\/td>\n",
       "      <td>Standard Class<\/td>\n",
       "      <td>SO-20335<\/td>\n",
       "      <td>Sean O'Donnell<\/td>\n",
       "      <td>Consumer<\/td>\n",
       "      <td>United States<\/td>\n",
       "      <td>Fort Lauderdale<\/td>\n",
       "      <td>...<\/td>\n",
       "      <td>33311.0<\/td>\n",
       "      <td>South<\/td>\n",
       "      <td>OFF-ST-10000760<\/td>\n",
       "      <td>Office Supplies<\/td>\n",
       "      <td>Storage<\/td>\n",
       "      <td>Eldon Fold 'N Roll Cart System<\/td>\n",
       "      <td>22.3680<\/td>\n",
       "      <td>2<\/td>\n",
       "      <td>0.20<\/td>\n",
       "      <td>2.5164<\/td>\n",
       "    <\/tr>\n",
       "  <\/tbody>\n",
       "<\/table>\n",
       "<p>5 rows × 21 columns<\/p>\n",
       "<\/div>"
      ]
     },
     "metadata":{
      
     },
     "output_type":"display_data"
    }
   ],
   "metadata":{
    "datalore":{
     "node_id":"5AdrVBcE0jADOzAftS2SBf",
     "type":"CODE",
     "hide_input_from_viewers":false,
     "hide_output_from_viewers":false,
     "report_properties":{
      "y":10
     }
    }
   }
  },
  {
   "cell_type":"code",
   "source":[
    "# shape of dataframe\n",
    "df.shape"
   ],
   "execution_count":null,
   "outputs":[
    {
     "data":{
      "text\/plain":[
       "(9994, 21)"
      ]
     },
     "metadata":{
      
     },
     "output_type":"display_data"
    }
   ],
   "metadata":{
    "datalore":{
     "node_id":"P8nx8yw49sNiPBFwgEb6jF",
     "type":"CODE",
     "hide_input_from_viewers":false,
     "hide_output_from_viewers":false,
     "report_properties":{
      "y":26
     }
    }
   }
  },
  {
   "cell_type":"code",
   "source":[
    "# see data frame information using .info()\n",
    "df.info()"
   ],
   "execution_count":null,
   "outputs":[
    {
     "name":"stdout",
     "text":[
      "<class 'pandas.core.frame.DataFrame'>\n",
      "RangeIndex: 9994 entries, 0 to 9993\n",
      "Data columns (total 21 columns):\n",
      " #   Column          Non-Null Count  Dtype  \n",
      "---  ------          --------------  -----  \n",
      " 0   Row ID          9994 non-null   int64  \n",
      " 1   Order ID        9994 non-null   object \n",
      " 2   Order Date      9994 non-null   object \n",
      " 3   Ship Date       9994 non-null   object \n",
      " 4   Ship Mode       9994 non-null   object \n",
      " 5   Customer ID     9994 non-null   object \n",
      " 6   Customer Name   9994 non-null   object \n",
      " 7   Segment         9994 non-null   object \n",
      " 8   Country\/Region  9994 non-null   object \n",
      " 9   City            9994 non-null   object \n",
      " 10  State           9994 non-null   object \n",
      " 11  Postal Code     9983 non-null   float64\n",
      " 12  Region          9994 non-null   object \n",
      " 13  Product ID      9994 non-null   object \n",
      " 14  Category        9994 non-null   object \n",
      " 15  Sub-Category    9994 non-null   object \n",
      " 16  Product Name    9994 non-null   object \n",
      " 17  Sales           9994 non-null   float64\n",
      " 18  Quantity        9994 non-null   int64  \n",
      " 19  Discount        9994 non-null   float64\n",
      " 20  Profit          9994 non-null   float64\n",
      "dtypes: float64(4), int64(2), object(15)\n",
      "memory usage: 1.6+ MB\n"
     ],
     "output_type":"stream"
    }
   ],
   "metadata":{
    "datalore":{
     "node_id":"xz8Q1i1azR9Kd4X0ClpG6Q",
     "type":"CODE",
     "hide_input_from_viewers":false,
     "hide_output_from_viewers":false,
     "report_properties":{
      "y":30
     }
    }
   }
  },
  {
   "cell_type":"markdown",
   "source":[
    "We can use `pd.to_datetime()` function to convert columns 'Order Date' and 'Ship Date' to datetime."
   ],
   "attachments":{
    
   },
   "metadata":{
    "datalore":{
     "node_id":"fXftqewd49vO5d7rbQUkuF",
     "type":"MD",
     "hide_input_from_viewers":false,
     "hide_output_from_viewers":false,
     "report_properties":{
      "y":43
     }
    }
   }
  },
  {
   "cell_type":"code",
   "source":[
    "# example of pd.to_datetime() function\n",
    "pd.to_datetime(df['Order Date'].head(), format='%m\/%d\/%Y')"
   ],
   "execution_count":null,
   "outputs":[
    {
     "data":{
      "text\/html":[
       "<pre>0   2019-11-08\n",
       "1   2019-11-08\n",
       "2   2019-06-12\n",
       "3   2018-10-11\n",
       "4   2018-10-11\n",
       "Name: Order Date, dtype: datetime64[ns]<\/pre>"
      ]
     },
     "metadata":{
      
     },
     "output_type":"display_data"
    }
   ],
   "metadata":{
    "datalore":{
     "node_id":"cCwMr9cA7CPPI61iMB9ceP",
     "type":"CODE",
     "hide_input_from_viewers":false,
     "hide_output_from_viewers":false,
     "report_properties":{
      "y":46
     }
    }
   }
  },
  {
   "cell_type":"code",
   "source":[
    "# TODO - convert order date and ship date to datetime in the original dataframe\n",
    "df['Order Date'] = pd.to_datetime(df['Order Date'], format='%m\/%d\/%Y')\n",
    "df['Ship Date'] = pd.to_datetime(df['Ship Date'], format='%m\/%d\/%Y')\n",
    "\n",
    "print(df[\"Order Date\"].dtypes)"
   ],
   "execution_count":null,
   "outputs":[
    {
     "name":"stdout",
     "text":[
      "datetime64[ns]\n"
     ],
     "output_type":"stream"
    }
   ],
   "metadata":{
    "datalore":{
     "node_id":"uaHkgIMMMpslJ94J8srN7y",
     "type":"CODE",
     "hide_input_from_viewers":false,
     "hide_output_from_viewers":false,
     "report_properties":{
      "y":53
     }
    }
   }
  },
  {
   "cell_type":"code",
   "source":[
    "# TODO - count nan in postal code column\n",
    "df['Postal Code'].isna().sum()"
   ],
   "execution_count":null,
   "outputs":[
    {
     "data":{
      "text\/plain":[
       "11"
      ]
     },
     "metadata":{
      
     },
     "output_type":"display_data"
    }
   ],
   "metadata":{
    "datalore":{
     "node_id":"fKNrLkThBbPzFyQD4aMO3X",
     "type":"CODE",
     "hide_input_from_viewers":false,
     "hide_output_from_viewers":false,
     "report_properties":{
      "y":59
     }
    }
   }
  },
  {
   "cell_type":"code",
   "source":[
    "# TODO - filter rows with missing values\n",
    "df_clean = df.dropna()"
   ],
   "execution_count":null,
   "outputs":[
    
   ],
   "metadata":{
    "datalore":{
     "node_id":"VAdBGesS5Qq04scCbH7SSC",
     "type":"CODE",
     "hide_input_from_viewers":false,
     "hide_output_from_viewers":false,
     "report_properties":{
      "y":62
     }
    }
   }
  },
  {
   "cell_type":"code",
   "source":[
    "# TODO - Explore this dataset on your owns, ask your own questions"
   ],
   "execution_count":null,
   "outputs":[
    {
     "data":{
      "text\/html":[
       "<div>\n",
       "<style scoped>\n",
       "    .dataframe tbody tr th:only-of-type {\n",
       "        vertical-align: middle;\n",
       "    }\n",
       "\n",
       "    .dataframe tbody tr th {\n",
       "        vertical-align: top;\n",
       "    }\n",
       "\n",
       "    .dataframe thead th {\n",
       "        text-align: right;\n",
       "    }\n",
       "<\/style>\n",
       "<table border=\"1\" class=\"dataframe\">\n",
       "  <thead>\n",
       "    <tr style=\"text-align: right;\">\n",
       "      <th><\/th>\n",
       "      <th>Row ID<\/th>\n",
       "      <th>Order ID<\/th>\n",
       "      <th>Order Date<\/th>\n",
       "      <th>Ship Date<\/th>\n",
       "      <th>Ship Mode<\/th>\n",
       "      <th>Customer ID<\/th>\n",
       "      <th>Customer Name<\/th>\n",
       "      <th>Segment<\/th>\n",
       "      <th>Country\/Region<\/th>\n",
       "      <th>City<\/th>\n",
       "      <th>...<\/th>\n",
       "      <th>Postal Code<\/th>\n",
       "      <th>Region<\/th>\n",
       "      <th>Product ID<\/th>\n",
       "      <th>Category<\/th>\n",
       "      <th>Sub-Category<\/th>\n",
       "      <th>Product Name<\/th>\n",
       "      <th>Sales<\/th>\n",
       "      <th>Quantity<\/th>\n",
       "      <th>Discount<\/th>\n",
       "      <th>Profit<\/th>\n",
       "    <\/tr>\n",
       "  <\/thead>\n",
       "  <tbody>\n",
       "    <tr>\n",
       "      <th>2<\/th>\n",
       "      <td>3<\/td>\n",
       "      <td>CA-2019-138688<\/td>\n",
       "      <td>6\/12\/2019<\/td>\n",
       "      <td>6\/16\/2019<\/td>\n",
       "      <td>Second Class<\/td>\n",
       "      <td>DV-13045<\/td>\n",
       "      <td>Darrin Van Huff<\/td>\n",
       "      <td>Corporate<\/td>\n",
       "      <td>United States<\/td>\n",
       "      <td>Los Angeles<\/td>\n",
       "      <td>...<\/td>\n",
       "      <td>90036.0<\/td>\n",
       "      <td>West<\/td>\n",
       "      <td>OFF-LA-10000240<\/td>\n",
       "      <td>Office Supplies<\/td>\n",
       "      <td>Labels<\/td>\n",
       "      <td>Self-Adhesive Address Labels for Typewriters b...<\/td>\n",
       "      <td>14.620<\/td>\n",
       "      <td>2<\/td>\n",
       "      <td>0.0<\/td>\n",
       "      <td>6.8714<\/td>\n",
       "    <\/tr>\n",
       "    <tr>\n",
       "      <th>5<\/th>\n",
       "      <td>6<\/td>\n",
       "      <td>CA-2017-115812<\/td>\n",
       "      <td>6\/9\/2017<\/td>\n",
       "      <td>6\/14\/2017<\/td>\n",
       "      <td>Standard Class<\/td>\n",
       "      <td>BH-11710<\/td>\n",
       "      <td>Brosina Hoffman<\/td>\n",
       "      <td>Consumer<\/td>\n",
       "      <td>United States<\/td>\n",
       "      <td>Los Angeles<\/td>\n",
       "      <td>...<\/td>\n",
       "      <td>90032.0<\/td>\n",
       "      <td>West<\/td>\n",
       "      <td>FUR-FU-10001487<\/td>\n",
       "      <td>Furniture<\/td>\n",
       "      <td>Furnishings<\/td>\n",
       "      <td>Eldon Expressions Wood and Plastic Desk Access...<\/td>\n",
       "      <td>48.860<\/td>\n",
       "      <td>7<\/td>\n",
       "      <td>0.0<\/td>\n",
       "      <td>14.1694<\/td>\n",
       "    <\/tr>\n",
       "    <tr>\n",
       "      <th>6<\/th>\n",
       "      <td>7<\/td>\n",
       "      <td>CA-2017-115812<\/td>\n",
       "      <td>6\/9\/2017<\/td>\n",
       "      <td>6\/14\/2017<\/td>\n",
       "      <td>Standard Class<\/td>\n",
       "      <td>BH-11710<\/td>\n",
       "      <td>Brosina Hoffman<\/td>\n",
       "      <td>Consumer<\/td>\n",
       "      <td>United States<\/td>\n",
       "      <td>Los Angeles<\/td>\n",
       "      <td>...<\/td>\n",
       "      <td>90032.0<\/td>\n",
       "      <td>West<\/td>\n",
       "      <td>OFF-AR-10002833<\/td>\n",
       "      <td>Office Supplies<\/td>\n",
       "      <td>Art<\/td>\n",
       "      <td>Newell 322<\/td>\n",
       "      <td>7.280<\/td>\n",
       "      <td>4<\/td>\n",
       "      <td>0.0<\/td>\n",
       "      <td>1.9656<\/td>\n",
       "    <\/tr>\n",
       "    <tr>\n",
       "      <th>7<\/th>\n",
       "      <td>8<\/td>\n",
       "      <td>CA-2017-115812<\/td>\n",
       "      <td>6\/9\/2017<\/td>\n",
       "      <td>6\/14\/2017<\/td>\n",
       "      <td>Standard Class<\/td>\n",
       "      <td>BH-11710<\/td>\n",
       "      <td>Brosina Hoffman<\/td>\n",
       "      <td>Consumer<\/td>\n",
       "      <td>United States<\/td>\n",
       "      <td>Los Angeles<\/td>\n",
       "      <td>...<\/td>\n",
       "      <td>90032.0<\/td>\n",
       "      <td>West<\/td>\n",
       "      <td>TEC-PH-10002275<\/td>\n",
       "      <td>Technology<\/td>\n",
       "      <td>Phones<\/td>\n",
       "      <td>Mitel 5320 IP Phone VoIP phone<\/td>\n",
       "      <td>907.152<\/td>\n",
       "      <td>6<\/td>\n",
       "      <td>0.2<\/td>\n",
       "      <td>90.7152<\/td>\n",
       "    <\/tr>\n",
       "    <tr>\n",
       "      <th>8<\/th>\n",
       "      <td>9<\/td>\n",
       "      <td>CA-2017-115812<\/td>\n",
       "      <td>6\/9\/2017<\/td>\n",
       "      <td>6\/14\/2017<\/td>\n",
       "      <td>Standard Class<\/td>\n",
       "      <td>BH-11710<\/td>\n",
       "      <td>Brosina Hoffman<\/td>\n",
       "      <td>Consumer<\/td>\n",
       "      <td>United States<\/td>\n",
       "      <td>Los Angeles<\/td>\n",
       "      <td>...<\/td>\n",
       "      <td>90032.0<\/td>\n",
       "      <td>West<\/td>\n",
       "      <td>OFF-BI-10003910<\/td>\n",
       "      <td>Office Supplies<\/td>\n",
       "      <td>Binders<\/td>\n",
       "      <td>DXL Angle-View Binders with Locking Rings by S...<\/td>\n",
       "      <td>18.504<\/td>\n",
       "      <td>3<\/td>\n",
       "      <td>0.2<\/td>\n",
       "      <td>5.7825<\/td>\n",
       "    <\/tr>\n",
       "    <tr>\n",
       "      <th>...<\/th>\n",
       "      <td>...<\/td>\n",
       "      <td>...<\/td>\n",
       "      <td>...<\/td>\n",
       "      <td>...<\/td>\n",
       "      <td>...<\/td>\n",
       "      <td>...<\/td>\n",
       "      <td>...<\/td>\n",
       "      <td>...<\/td>\n",
       "      <td>...<\/td>\n",
       "      <td>...<\/td>\n",
       "      <td>...<\/td>\n",
       "      <td>...<\/td>\n",
       "      <td>...<\/td>\n",
       "      <td>...<\/td>\n",
       "      <td>...<\/td>\n",
       "      <td>...<\/td>\n",
       "      <td>...<\/td>\n",
       "      <td>...<\/td>\n",
       "      <td>...<\/td>\n",
       "      <td>...<\/td>\n",
       "      <td>...<\/td>\n",
       "    <\/tr>\n",
       "    <tr>\n",
       "      <th>9986<\/th>\n",
       "      <td>9987<\/td>\n",
       "      <td>CA-2019-125794<\/td>\n",
       "      <td>9\/29\/2019<\/td>\n",
       "      <td>10\/3\/2019<\/td>\n",
       "      <td>Standard Class<\/td>\n",
       "      <td>ML-17410<\/td>\n",
       "      <td>Maris LaWare<\/td>\n",
       "      <td>Consumer<\/td>\n",
       "      <td>United States<\/td>\n",
       "      <td>Los Angeles<\/td>\n",
       "      <td>...<\/td>\n",
       "      <td>90008.0<\/td>\n",
       "      <td>West<\/td>\n",
       "      <td>TEC-AC-10003399<\/td>\n",
       "      <td>Technology<\/td>\n",
       "      <td>Accessories<\/td>\n",
       "      <td>Memorex Mini Travel Drive 64 GB USB 2.0 Flash ...<\/td>\n",
       "      <td>36.240<\/td>\n",
       "      <td>1<\/td>\n",
       "      <td>0.0<\/td>\n",
       "      <td>15.2208<\/td>\n",
       "    <\/tr>\n",
       "    <tr>\n",
       "      <th>9990<\/th>\n",
       "      <td>9991<\/td>\n",
       "      <td>CA-2020-121258<\/td>\n",
       "      <td>2\/26\/2020<\/td>\n",
       "      <td>3\/3\/2020<\/td>\n",
       "      <td>Standard Class<\/td>\n",
       "      <td>DB-13060<\/td>\n",
       "      <td>Dave Brooks<\/td>\n",
       "      <td>Consumer<\/td>\n",
       "      <td>United States<\/td>\n",
       "      <td>Costa Mesa<\/td>\n",
       "      <td>...<\/td>\n",
       "      <td>92627.0<\/td>\n",
       "      <td>West<\/td>\n",
       "      <td>FUR-FU-10000747<\/td>\n",
       "      <td>Furniture<\/td>\n",
       "      <td>Furnishings<\/td>\n",
       "      <td>Tenex B1-RE Series Chair Mats for Low Pile Car...<\/td>\n",
       "      <td>91.960<\/td>\n",
       "      <td>2<\/td>\n",
       "      <td>0.0<\/td>\n",
       "      <td>15.6332<\/td>\n",
       "    <\/tr>\n",
       "    <tr>\n",
       "      <th>9991<\/th>\n",
       "      <td>9992<\/td>\n",
       "      <td>CA-2020-121258<\/td>\n",
       "      <td>2\/26\/2020<\/td>\n",
       "      <td>3\/3\/2020<\/td>\n",
       "      <td>Standard Class<\/td>\n",
       "      <td>DB-13060<\/td>\n",
       "      <td>Dave Brooks<\/td>\n",
       "      <td>Consumer<\/td>\n",
       "      <td>United States<\/td>\n",
       "      <td>Costa Mesa<\/td>\n",
       "      <td>...<\/td>\n",
       "      <td>92627.0<\/td>\n",
       "      <td>West<\/td>\n",
       "      <td>TEC-PH-10003645<\/td>\n",
       "      <td>Technology<\/td>\n",
       "      <td>Phones<\/td>\n",
       "      <td>Aastra 57i VoIP phone<\/td>\n",
       "      <td>258.576<\/td>\n",
       "      <td>2<\/td>\n",
       "      <td>0.2<\/td>\n",
       "      <td>19.3932<\/td>\n",
       "    <\/tr>\n",
       "    <tr>\n",
       "      <th>9992<\/th>\n",
       "      <td>9993<\/td>\n",
       "      <td>CA-2020-121258<\/td>\n",
       "      <td>2\/26\/2020<\/td>\n",
       "      <td>3\/3\/2020<\/td>\n",
       "      <td>Standard Class<\/td>\n",
       "      <td>DB-13060<\/td>\n",
       "      <td>Dave Brooks<\/td>\n",
       "      <td>Consumer<\/td>\n",
       "      <td>United States<\/td>\n",
       "      <td>Costa Mesa<\/td>\n",
       "      <td>...<\/td>\n",
       "      <td>92627.0<\/td>\n",
       "      <td>West<\/td>\n",
       "      <td>OFF-PA-10004041<\/td>\n",
       "      <td>Office Supplies<\/td>\n",
       "      <td>Paper<\/td>\n",
       "      <td>It's Hot Message Books with Stickers, 2 3\/4\" x 5\"<\/td>\n",
       "      <td>29.600<\/td>\n",
       "      <td>4<\/td>\n",
       "      <td>0.0<\/td>\n",
       "      <td>13.3200<\/td>\n",
       "    <\/tr>\n",
       "    <tr>\n",
       "      <th>9993<\/th>\n",
       "      <td>9994<\/td>\n",
       "      <td>CA-2020-119914<\/td>\n",
       "      <td>5\/4\/2020<\/td>\n",
       "      <td>5\/9\/2020<\/td>\n",
       "      <td>Second Class<\/td>\n",
       "      <td>CC-12220<\/td>\n",
       "      <td>Chris Cortes<\/td>\n",
       "      <td>Consumer<\/td>\n",
       "      <td>United States<\/td>\n",
       "      <td>Westminster<\/td>\n",
       "      <td>...<\/td>\n",
       "      <td>92683.0<\/td>\n",
       "      <td>West<\/td>\n",
       "      <td>OFF-AP-10002684<\/td>\n",
       "      <td>Office Supplies<\/td>\n",
       "      <td>Appliances<\/td>\n",
       "      <td>Acco 7-Outlet Masterpiece Power Center, Wihtou...<\/td>\n",
       "      <td>243.160<\/td>\n",
       "      <td>2<\/td>\n",
       "      <td>0.0<\/td>\n",
       "      <td>72.9480<\/td>\n",
       "    <\/tr>\n",
       "  <\/tbody>\n",
       "<\/table>\n",
       "<p>2001 rows × 21 columns<\/p>\n",
       "<\/div>"
      ]
     },
     "metadata":{
      
     },
     "output_type":"display_data"
    }
   ],
   "metadata":{
    "datalore":{
     "node_id":"0w57RSRpjvyudzC9R8Ips3",
     "type":"CODE",
     "hide_input_from_viewers":false,
     "hide_output_from_viewers":false,
     "report_properties":{
      "y":65
     }
    }
   }
  },
  {
   "cell_type":"markdown",
   "source":[
    "## Data Analysis Part\n",
    "\n",
    "Answer 10 below questions to get credit from this course. Write `pandas` code to find answers."
   ],
   "attachments":{
    
   },
   "metadata":{
    "datalore":{
     "node_id":"5eWMVPJoUBqUYCWEztEfdV",
     "type":"MD",
     "hide_input_from_viewers":false,
     "hide_output_from_viewers":false,
     "report_properties":{
      "y":68
     }
    }
   }
  },
  {
   "cell_type":"code",
   "source":[
    "# TODO 01 - how many columns, rows in this dataset\n",
    "df.shape"
   ],
   "execution_count":null,
   "outputs":[
    {
     "data":{
      "text\/plain":[
       "(9994, 21)"
      ]
     },
     "metadata":{
      
     },
     "output_type":"display_data"
    }
   ],
   "metadata":{
    "datalore":{
     "node_id":"oFZMspVYMwKvy28Y3yQ7mp",
     "type":"CODE",
     "hide_input_from_viewers":false,
     "hide_output_from_viewers":false,
     "report_properties":{
      "y":71
     }
    }
   }
  },
  {
   "cell_type":"code",
   "source":[
    "# TODO 02 - is there any missing values?, if there is, which colunm? how many nan values?\n",
    "df.isna().sum().sort_values(ascending = False)\n",
    "\n",
    "# Answer There are missing values in Postal Columns which contain 11 NaN Values"
   ],
   "execution_count":null,
   "outputs":[
    {
     "data":{
      "text\/html":[
       "<pre>Postal Code       11\n",
       "Row ID             0\n",
       "Discount           0\n",
       "Quantity           0\n",
       "Sales              0\n",
       "Product Name       0\n",
       "Sub-Category       0\n",
       "Category           0\n",
       "Product ID         0\n",
       "Region             0\n",
       "State              0\n",
       "Order ID           0\n",
       "City               0\n",
       "Country\/Region     0\n",
       "Segment            0\n",
       "Customer Name      0\n",
       "Customer ID        0\n",
       "Ship Mode          0\n",
       "Ship Date          0\n",
       "Order Date         0\n",
       "Profit             0\n",
       "dtype: int64<\/pre>"
      ]
     },
     "metadata":{
      
     },
     "output_type":"display_data"
    }
   ],
   "metadata":{
    "datalore":{
     "node_id":"Dqn2llysb5u62Imms2sawK",
     "type":"CODE",
     "hide_input_from_viewers":false,
     "hide_output_from_viewers":false,
     "report_properties":{
      "y":74
     }
    }
   }
  },
  {
   "cell_type":"code",
   "source":[
    "# TODO 03 - your friend ask for `California` data, filter it and export csv for him\n",
    "df.query(\"State == 'California'\")\n",
    "df.to_csv(\"California_samplestore\")"
   ],
   "execution_count":null,
   "outputs":[
    
   ],
   "metadata":{
    "datalore":{
     "node_id":"wx8GDhUREH5BaX93X2VyN0",
     "type":"CODE",
     "hide_input_from_viewers":false,
     "hide_output_from_viewers":false,
     "report_properties":{
      "y":77
     }
    }
   }
  },
  {
   "cell_type":"code",
   "source":[
    "# TODO 04 - your friend ask for all order data in `California` and `Texas` in 2017 (look at Order Date), send him csv file\n",
    "# Filter only California Texas\n",
    "df_ct = df.query(\"State == ['California','Texas']\").copy()\n",
    "\n",
    "# Filter only 2017 Year\n",
    "df_ct = df.query(\"State == ['California','Texas']\").copy()\n",
    "df_ct[\"Year\"] = df_ct[\"Order Date\"].dt.year\n",
    "df_ct_2017 = df_ct[df_ct.Year == 2017]\n",
    "\n",
    "df_ct_2017\n"
   ],
   "execution_count":null,
   "outputs":[
    
   ],
   "metadata":{
    "datalore":{
     "node_id":"yvWR4nKBSbThL89QbDlaPX",
     "type":"CODE",
     "hide_input_from_viewers":false,
     "hide_output_from_viewers":false,
     "report_properties":{
      "y":80
     }
    }
   }
  },
  {
   "cell_type":"code",
   "source":[
    
   ],
   "execution_count":null,
   "outputs":[
    {
     "data":{
      "text\/html":[
       "<div>\n",
       "<style scoped>\n",
       "    .dataframe tbody tr th:only-of-type {\n",
       "        vertical-align: middle;\n",
       "    }\n",
       "\n",
       "    .dataframe tbody tr th {\n",
       "        vertical-align: top;\n",
       "    }\n",
       "\n",
       "    .dataframe thead th {\n",
       "        text-align: right;\n",
       "    }\n",
       "<\/style>\n",
       "<table border=\"1\" class=\"dataframe\">\n",
       "  <thead>\n",
       "    <tr style=\"text-align: right;\">\n",
       "      <th><\/th>\n",
       "      <th>Row ID<\/th>\n",
       "      <th>Order ID<\/th>\n",
       "      <th>Order Date<\/th>\n",
       "      <th>Ship Date<\/th>\n",
       "      <th>Ship Mode<\/th>\n",
       "      <th>Customer ID<\/th>\n",
       "      <th>Customer Name<\/th>\n",
       "      <th>Segment<\/th>\n",
       "      <th>Country\/Region<\/th>\n",
       "      <th>City<\/th>\n",
       "      <th>...<\/th>\n",
       "      <th>Region<\/th>\n",
       "      <th>Product ID<\/th>\n",
       "      <th>Category<\/th>\n",
       "      <th>Sub-Category<\/th>\n",
       "      <th>Product Name<\/th>\n",
       "      <th>Sales<\/th>\n",
       "      <th>Quantity<\/th>\n",
       "      <th>Discount<\/th>\n",
       "      <th>Profit<\/th>\n",
       "      <th>Year<\/th>\n",
       "    <\/tr>\n",
       "  <\/thead>\n",
       "  <tbody>\n",
       "    <tr>\n",
       "      <th>5<\/th>\n",
       "      <td>6<\/td>\n",
       "      <td>CA-2017-115812<\/td>\n",
       "      <td>2017-06-09<\/td>\n",
       "      <td>2017-06-14<\/td>\n",
       "      <td>Standard Class<\/td>\n",
       "      <td>BH-11710<\/td>\n",
       "      <td>Brosina Hoffman<\/td>\n",
       "      <td>Consumer<\/td>\n",
       "      <td>United States<\/td>\n",
       "      <td>Los Angeles<\/td>\n",
       "      <td>...<\/td>\n",
       "      <td>West<\/td>\n",
       "      <td>FUR-FU-10001487<\/td>\n",
       "      <td>Furniture<\/td>\n",
       "      <td>Furnishings<\/td>\n",
       "      <td>Eldon Expressions Wood and Plastic Desk Access...<\/td>\n",
       "      <td>48.860<\/td>\n",
       "      <td>7<\/td>\n",
       "      <td>0.0<\/td>\n",
       "      <td>14.1694<\/td>\n",
       "      <td>2017<\/td>\n",
       "    <\/tr>\n",
       "    <tr>\n",
       "      <th>6<\/th>\n",
       "      <td>7<\/td>\n",
       "      <td>CA-2017-115812<\/td>\n",
       "      <td>2017-06-09<\/td>\n",
       "      <td>2017-06-14<\/td>\n",
       "      <td>Standard Class<\/td>\n",
       "      <td>BH-11710<\/td>\n",
       "      <td>Brosina Hoffman<\/td>\n",
       "      <td>Consumer<\/td>\n",
       "      <td>United States<\/td>\n",
       "      <td>Los Angeles<\/td>\n",
       "      <td>...<\/td>\n",
       "      <td>West<\/td>\n",
       "      <td>OFF-AR-10002833<\/td>\n",
       "      <td>Office Supplies<\/td>\n",
       "      <td>Art<\/td>\n",
       "      <td>Newell 322<\/td>\n",
       "      <td>7.280<\/td>\n",
       "      <td>4<\/td>\n",
       "      <td>0.0<\/td>\n",
       "      <td>1.9656<\/td>\n",
       "      <td>2017<\/td>\n",
       "    <\/tr>\n",
       "    <tr>\n",
       "      <th>7<\/th>\n",
       "      <td>8<\/td>\n",
       "      <td>CA-2017-115812<\/td>\n",
       "      <td>2017-06-09<\/td>\n",
       "      <td>2017-06-14<\/td>\n",
       "      <td>Standard Class<\/td>\n",
       "      <td>BH-11710<\/td>\n",
       "      <td>Brosina Hoffman<\/td>\n",
       "      <td>Consumer<\/td>\n",
       "      <td>United States<\/td>\n",
       "      <td>Los Angeles<\/td>\n",
       "      <td>...<\/td>\n",
       "      <td>West<\/td>\n",
       "      <td>TEC-PH-10002275<\/td>\n",
       "      <td>Technology<\/td>\n",
       "      <td>Phones<\/td>\n",
       "      <td>Mitel 5320 IP Phone VoIP phone<\/td>\n",
       "      <td>907.152<\/td>\n",
       "      <td>6<\/td>\n",
       "      <td>0.2<\/td>\n",
       "      <td>90.7152<\/td>\n",
       "      <td>2017<\/td>\n",
       "    <\/tr>\n",
       "    <tr>\n",
       "      <th>8<\/th>\n",
       "      <td>9<\/td>\n",
       "      <td>CA-2017-115812<\/td>\n",
       "      <td>2017-06-09<\/td>\n",
       "      <td>2017-06-14<\/td>\n",
       "      <td>Standard Class<\/td>\n",
       "      <td>BH-11710<\/td>\n",
       "      <td>Brosina Hoffman<\/td>\n",
       "      <td>Consumer<\/td>\n",
       "      <td>United States<\/td>\n",
       "      <td>Los Angeles<\/td>\n",
       "      <td>...<\/td>\n",
       "      <td>West<\/td>\n",
       "      <td>OFF-BI-10003910<\/td>\n",
       "      <td>Office Supplies<\/td>\n",
       "      <td>Binders<\/td>\n",
       "      <td>DXL Angle-View Binders with Locking Rings by S...<\/td>\n",
       "      <td>18.504<\/td>\n",
       "      <td>3<\/td>\n",
       "      <td>0.2<\/td>\n",
       "      <td>5.7825<\/td>\n",
       "      <td>2017<\/td>\n",
       "    <\/tr>\n",
       "    <tr>\n",
       "      <th>9<\/th>\n",
       "      <td>10<\/td>\n",
       "      <td>CA-2017-115812<\/td>\n",
       "      <td>2017-06-09<\/td>\n",
       "      <td>2017-06-14<\/td>\n",
       "      <td>Standard Class<\/td>\n",
       "      <td>BH-11710<\/td>\n",
       "      <td>Brosina Hoffman<\/td>\n",
       "      <td>Consumer<\/td>\n",
       "      <td>United States<\/td>\n",
       "      <td>Los Angeles<\/td>\n",
       "      <td>...<\/td>\n",
       "      <td>West<\/td>\n",
       "      <td>OFF-AP-10002892<\/td>\n",
       "      <td>Office Supplies<\/td>\n",
       "      <td>Appliances<\/td>\n",
       "      <td>Belkin F5C206VTEL 6 Outlet Surge<\/td>\n",
       "      <td>114.900<\/td>\n",
       "      <td>5<\/td>\n",
       "      <td>0.0<\/td>\n",
       "      <td>34.4700<\/td>\n",
       "      <td>2017<\/td>\n",
       "    <\/tr>\n",
       "    <tr>\n",
       "      <th>...<\/th>\n",
       "      <td>...<\/td>\n",
       "      <td>...<\/td>\n",
       "      <td>...<\/td>\n",
       "      <td>...<\/td>\n",
       "      <td>...<\/td>\n",
       "      <td>...<\/td>\n",
       "      <td>...<\/td>\n",
       "      <td>...<\/td>\n",
       "      <td>...<\/td>\n",
       "      <td>...<\/td>\n",
       "      <td>...<\/td>\n",
       "      <td>...<\/td>\n",
       "      <td>...<\/td>\n",
       "      <td>...<\/td>\n",
       "      <td>...<\/td>\n",
       "      <td>...<\/td>\n",
       "      <td>...<\/td>\n",
       "      <td>...<\/td>\n",
       "      <td>...<\/td>\n",
       "      <td>...<\/td>\n",
       "      <td>...<\/td>\n",
       "    <\/tr>\n",
       "    <tr>\n",
       "      <th>9885<\/th>\n",
       "      <td>9886<\/td>\n",
       "      <td>CA-2017-112291<\/td>\n",
       "      <td>2017-04-03<\/td>\n",
       "      <td>2017-04-08<\/td>\n",
       "      <td>Standard Class<\/td>\n",
       "      <td>KE-16420<\/td>\n",
       "      <td>Katrina Edelman<\/td>\n",
       "      <td>Corporate<\/td>\n",
       "      <td>United States<\/td>\n",
       "      <td>Los Angeles<\/td>\n",
       "      <td>...<\/td>\n",
       "      <td>West<\/td>\n",
       "      <td>TEC-AC-10000736<\/td>\n",
       "      <td>Technology<\/td>\n",
       "      <td>Accessories<\/td>\n",
       "      <td>Logitech G600 MMO Gaming Mouse<\/td>\n",
       "      <td>159.980<\/td>\n",
       "      <td>2<\/td>\n",
       "      <td>0.0<\/td>\n",
       "      <td>57.5928<\/td>\n",
       "      <td>2017<\/td>\n",
       "    <\/tr>\n",
       "    <tr>\n",
       "      <th>9903<\/th>\n",
       "      <td>9904<\/td>\n",
       "      <td>CA-2017-122609<\/td>\n",
       "      <td>2017-11-12<\/td>\n",
       "      <td>2017-11-18<\/td>\n",
       "      <td>Standard Class<\/td>\n",
       "      <td>DP-13000<\/td>\n",
       "      <td>Darren Powers<\/td>\n",
       "      <td>Consumer<\/td>\n",
       "      <td>United States<\/td>\n",
       "      <td>Carrollton<\/td>\n",
       "      <td>...<\/td>\n",
       "      <td>Central<\/td>\n",
       "      <td>FUR-FU-10004587<\/td>\n",
       "      <td>Furniture<\/td>\n",
       "      <td>Furnishings<\/td>\n",
       "      <td>GE General Use Halogen Bulbs, 100 Watts, 1 Bul...<\/td>\n",
       "      <td>25.128<\/td>\n",
       "      <td>3<\/td>\n",
       "      <td>0.6<\/td>\n",
       "      <td>-6.9102<\/td>\n",
       "      <td>2017<\/td>\n",
       "    <\/tr>\n",
       "    <tr>\n",
       "      <th>9904<\/th>\n",
       "      <td>9905<\/td>\n",
       "      <td>CA-2017-122609<\/td>\n",
       "      <td>2017-11-12<\/td>\n",
       "      <td>2017-11-18<\/td>\n",
       "      <td>Standard Class<\/td>\n",
       "      <td>DP-13000<\/td>\n",
       "      <td>Darren Powers<\/td>\n",
       "      <td>Consumer<\/td>\n",
       "      <td>United States<\/td>\n",
       "      <td>Carrollton<\/td>\n",
       "      <td>...<\/td>\n",
       "      <td>Central<\/td>\n",
       "      <td>TEC-AC-10002567<\/td>\n",
       "      <td>Technology<\/td>\n",
       "      <td>Accessories<\/td>\n",
       "      <td>Logitech G602 Wireless Gaming Mouse<\/td>\n",
       "      <td>127.984<\/td>\n",
       "      <td>2<\/td>\n",
       "      <td>0.2<\/td>\n",
       "      <td>25.5968<\/td>\n",
       "      <td>2017<\/td>\n",
       "    <\/tr>\n",
       "    <tr>\n",
       "      <th>9942<\/th>\n",
       "      <td>9943<\/td>\n",
       "      <td>CA-2017-143371<\/td>\n",
       "      <td>2017-12-28<\/td>\n",
       "      <td>2018-01-03<\/td>\n",
       "      <td>Standard Class<\/td>\n",
       "      <td>MD-17350<\/td>\n",
       "      <td>Maribeth Dona<\/td>\n",
       "      <td>Consumer<\/td>\n",
       "      <td>United States<\/td>\n",
       "      <td>Anaheim<\/td>\n",
       "      <td>...<\/td>\n",
       "      <td>West<\/td>\n",
       "      <td>OFF-ST-10001128<\/td>\n",
       "      <td>Office Supplies<\/td>\n",
       "      <td>Storage<\/td>\n",
       "      <td>Carina Mini System Audio Rack, Model AR050B<\/td>\n",
       "      <td>998.820<\/td>\n",
       "      <td>9<\/td>\n",
       "      <td>0.0<\/td>\n",
       "      <td>29.9646<\/td>\n",
       "      <td>2017<\/td>\n",
       "    <\/tr>\n",
       "    <tr>\n",
       "      <th>9943<\/th>\n",
       "      <td>9944<\/td>\n",
       "      <td>CA-2017-143371<\/td>\n",
       "      <td>2017-12-28<\/td>\n",
       "      <td>2018-01-03<\/td>\n",
       "      <td>Standard Class<\/td>\n",
       "      <td>MD-17350<\/td>\n",
       "      <td>Maribeth Dona<\/td>\n",
       "      <td>Consumer<\/td>\n",
       "      <td>United States<\/td>\n",
       "      <td>Anaheim<\/td>\n",
       "      <td>...<\/td>\n",
       "      <td>West<\/td>\n",
       "      <td>OFF-SU-10002537<\/td>\n",
       "      <td>Office Supplies<\/td>\n",
       "      <td>Supplies<\/td>\n",
       "      <td>Acme Box Cutter Scissors<\/td>\n",
       "      <td>51.150<\/td>\n",
       "      <td>5<\/td>\n",
       "      <td>0.0<\/td>\n",
       "      <td>13.2990<\/td>\n",
       "      <td>2017<\/td>\n",
       "    <\/tr>\n",
       "  <\/tbody>\n",
       "<\/table>\n",
       "<p>632 rows × 22 columns<\/p>\n",
       "<\/div>"
      ]
     },
     "metadata":{
      
     },
     "output_type":"display_data"
    }
   ],
   "metadata":{
    "datalore":{
     "node_id":"A7TRzWr0IC49nafubdKCne",
     "type":"CODE",
     "hide_input_from_viewers":true,
     "hide_output_from_viewers":true,
     "report_properties":{
      
     }
    }
   }
  },
  {
   "cell_type":"code",
   "source":[
    "# TODO 05 - how much total sales, average sales, and standard deviation of sales your company make in 2017\n",
    "\n",
    "\n",
    "## Filter only 2017 year\n",
    "\n",
    "df_2017 = df.copy()\n",
    "df_2017[\"Year\"] = df_2017[\"Order Date\"].dt.year\n",
    "df_2017 = df_2017.query(\"Year == 2017\")\n",
    "\n",
    "## Calculate 2017 Sales Statistic\n",
    "\n",
    "raw_sales = {\n",
    "    \"Total Sale\":    [df_2017['Sales'].sum()],\n",
    "    \"Average Sales\": [df_2017['Sales'].mean()],\n",
    "    \"std\":           [df_2017['Sales'].std()]\n",
    "\n",
    "}\n",
    "\n",
    "stat_sales = pd.DataFrame(raw_sales)\n",
    "\n",
    "stat_sales\n"
   ],
   "execution_count":null,
   "outputs":[
    {
     "data":{
      "text\/html":[
       "<div>\n",
       "<style scoped>\n",
       "    .dataframe tbody tr th:only-of-type {\n",
       "        vertical-align: middle;\n",
       "    }\n",
       "\n",
       "    .dataframe tbody tr th {\n",
       "        vertical-align: top;\n",
       "    }\n",
       "\n",
       "    .dataframe thead th {\n",
       "        text-align: right;\n",
       "    }\n",
       "<\/style>\n",
       "<table border=\"1\" class=\"dataframe\">\n",
       "  <thead>\n",
       "    <tr style=\"text-align: right;\">\n",
       "      <th><\/th>\n",
       "      <th>Total Sale<\/th>\n",
       "      <th>Average Sales<\/th>\n",
       "      <th>std<\/th>\n",
       "    <\/tr>\n",
       "  <\/thead>\n",
       "  <tbody>\n",
       "    <tr>\n",
       "      <th>0<\/th>\n",
       "      <td>484247.4981<\/td>\n",
       "      <td>242.974159<\/td>\n",
       "      <td>754.053357<\/td>\n",
       "    <\/tr>\n",
       "  <\/tbody>\n",
       "<\/table>\n",
       "<\/div>"
      ]
     },
     "metadata":{
      
     },
     "output_type":"display_data"
    }
   ],
   "metadata":{
    "datalore":{
     "node_id":"ASM57L0pdKxOdfzJILh6JK",
     "type":"CODE",
     "hide_input_from_viewers":false,
     "hide_output_from_viewers":false,
     "report_properties":{
      "y":83
     }
    }
   }
  },
  {
   "cell_type":"code",
   "source":[
    "# TODO 06 - which Segment has the highest profit in 2018\n",
    "\n",
    "# Filter Data 2018\n",
    "df_2018 = df[df[\"Order Date\"].dt.year == 2018].copy()\n",
    "\n",
    "df_2018\n",
    "# Find Segement with highest profit\n",
    "\n",
    "df_2018.groupby(\"Segment\")['Profit'].sum()\n",
    "\n",
    "# Answer : Consumer Segment has the most profit in 2018\n"
   ],
   "execution_count":null,
   "outputs":[
    {
     "data":{
      "text\/html":[
       "<pre>Segment\n",
       "Consumer       28460.1665\n",
       "Corporate      20688.3248\n",
       "Home Office    12470.1124\n",
       "Name: Profit, dtype: float64<\/pre>"
      ]
     },
     "metadata":{
      
     },
     "output_type":"display_data"
    }
   ],
   "metadata":{
    "datalore":{
     "node_id":"wYXrUB1hHgzsKa2NT9Cybd",
     "type":"CODE",
     "hide_input_from_viewers":false,
     "hide_output_from_viewers":false,
     "report_properties":{
      "y":86
     }
    }
   }
  },
  {
   "cell_type":"code",
   "source":[
    "# TODO 07 - which top 5 States have the least total sales between 15 April 2019 - 31 December 2019\n",
    "\n",
    "## Filter Date\n",
    "df_apr_to_dec_2019 = df[(df[\"Order Date\"] >= \"2019-04-15\") & (df[\"Order Date\"] <= \"2019-12-31\")]\n",
    "\n",
    "df_apr_to_dec_2019.sort_values(\"Order Date\")"
   ],
   "execution_count":null,
   "outputs":[
    {
     "data":{
      "text\/html":[
       "<div>\n",
       "<style scoped>\n",
       "    .dataframe tbody tr th:only-of-type {\n",
       "        vertical-align: middle;\n",
       "    }\n",
       "\n",
       "    .dataframe tbody tr th {\n",
       "        vertical-align: top;\n",
       "    }\n",
       "\n",
       "    .dataframe thead th {\n",
       "        text-align: right;\n",
       "    }\n",
       "<\/style>\n",
       "<table border=\"1\" class=\"dataframe\">\n",
       "  <thead>\n",
       "    <tr style=\"text-align: right;\">\n",
       "      <th><\/th>\n",
       "      <th>Row ID<\/th>\n",
       "      <th>Order ID<\/th>\n",
       "      <th>Order Date<\/th>\n",
       "      <th>Ship Date<\/th>\n",
       "      <th>Ship Mode<\/th>\n",
       "      <th>Customer ID<\/th>\n",
       "      <th>Customer Name<\/th>\n",
       "      <th>Segment<\/th>\n",
       "      <th>Country\/Region<\/th>\n",
       "      <th>City<\/th>\n",
       "      <th>...<\/th>\n",
       "      <th>Postal Code<\/th>\n",
       "      <th>Region<\/th>\n",
       "      <th>Product ID<\/th>\n",
       "      <th>Category<\/th>\n",
       "      <th>Sub-Category<\/th>\n",
       "      <th>Product Name<\/th>\n",
       "      <th>Sales<\/th>\n",
       "      <th>Quantity<\/th>\n",
       "      <th>Discount<\/th>\n",
       "      <th>Profit<\/th>\n",
       "    <\/tr>\n",
       "  <\/thead>\n",
       "  <tbody>\n",
       "    <tr>\n",
       "      <th>2252<\/th>\n",
       "      <td>2253<\/td>\n",
       "      <td>CA-2019-117849<\/td>\n",
       "      <td>2019-04-15<\/td>\n",
       "      <td>2019-04-17<\/td>\n",
       "      <td>Second Class<\/td>\n",
       "      <td>JK-16120<\/td>\n",
       "      <td>Julie Kriz<\/td>\n",
       "      <td>Home Office<\/td>\n",
       "      <td>United States<\/td>\n",
       "      <td>San Diego<\/td>\n",
       "      <td>...<\/td>\n",
       "      <td>92105.0<\/td>\n",
       "      <td>West<\/td>\n",
       "      <td>OFF-PA-10004327<\/td>\n",
       "      <td>Office Supplies<\/td>\n",
       "      <td>Paper<\/td>\n",
       "      <td>Xerox 1911<\/td>\n",
       "      <td>143.700<\/td>\n",
       "      <td>3<\/td>\n",
       "      <td>0.0<\/td>\n",
       "      <td>68.9760<\/td>\n",
       "    <\/tr>\n",
       "    <tr>\n",
       "      <th>551<\/th>\n",
       "      <td>552<\/td>\n",
       "      <td>CA-2019-136406<\/td>\n",
       "      <td>2019-04-15<\/td>\n",
       "      <td>2019-04-17<\/td>\n",
       "      <td>Second Class<\/td>\n",
       "      <td>BD-11320<\/td>\n",
       "      <td>Bill Donatelli<\/td>\n",
       "      <td>Consumer<\/td>\n",
       "      <td>United States<\/td>\n",
       "      <td>San Francisco<\/td>\n",
       "      <td>...<\/td>\n",
       "      <td>94110.0<\/td>\n",
       "      <td>West<\/td>\n",
       "      <td>FUR-CH-10002024<\/td>\n",
       "      <td>Furniture<\/td>\n",
       "      <td>Chairs<\/td>\n",
       "      <td>HON 5400 Series Task Chairs for Big and Tall<\/td>\n",
       "      <td>1121.568<\/td>\n",
       "      <td>2<\/td>\n",
       "      <td>0.2<\/td>\n",
       "      <td>0.0000<\/td>\n",
       "    <\/tr>\n",
       "    <tr>\n",
       "      <th>432<\/th>\n",
       "      <td>433<\/td>\n",
       "      <td>US-2019-123750<\/td>\n",
       "      <td>2019-04-15<\/td>\n",
       "      <td>2019-04-21<\/td>\n",
       "      <td>Standard Class<\/td>\n",
       "      <td>RB-19795<\/td>\n",
       "      <td>Ross Baird<\/td>\n",
       "      <td>Home Office<\/td>\n",
       "      <td>United States<\/td>\n",
       "      <td>Gastonia<\/td>\n",
       "      <td>...<\/td>\n",
       "      <td>28052.0<\/td>\n",
       "      <td>South<\/td>\n",
       "      <td>OFF-ST-10000617<\/td>\n",
       "      <td>Office Supplies<\/td>\n",
       "      <td>Storage<\/td>\n",
       "      <td>Woodgrain Magazine Files by Perma<\/td>\n",
       "      <td>4.768<\/td>\n",
       "      <td>2<\/td>\n",
       "      <td>0.2<\/td>\n",
       "      <td>-0.7748<\/td>\n",
       "    <\/tr>\n",
       "    <tr>\n",
       "      <th>431<\/th>\n",
       "      <td>432<\/td>\n",
       "      <td>US-2019-123750<\/td>\n",
       "      <td>2019-04-15<\/td>\n",
       "      <td>2019-04-21<\/td>\n",
       "      <td>Standard Class<\/td>\n",
       "      <td>RB-19795<\/td>\n",
       "      <td>Ross Baird<\/td>\n",
       "      <td>Home Office<\/td>\n",
       "      <td>United States<\/td>\n",
       "      <td>Gastonia<\/td>\n",
       "      <td>...<\/td>\n",
       "      <td>28052.0<\/td>\n",
       "      <td>South<\/td>\n",
       "      <td>TEC-AC-10004659<\/td>\n",
       "      <td>Technology<\/td>\n",
       "      <td>Accessories<\/td>\n",
       "      <td>Imation Secure+ Hardware Encrypted USB 2.0 Fla...<\/td>\n",
       "      <td>291.960<\/td>\n",
       "      <td>5<\/td>\n",
       "      <td>0.2<\/td>\n",
       "      <td>54.7425<\/td>\n",
       "    <\/tr>\n",
       "    <tr>\n",
       "      <th>430<\/th>\n",
       "      <td>431<\/td>\n",
       "      <td>US-2019-123750<\/td>\n",
       "      <td>2019-04-15<\/td>\n",
       "      <td>2019-04-21<\/td>\n",
       "      <td>Standard Class<\/td>\n",
       "      <td>RB-19795<\/td>\n",
       "      <td>Ross Baird<\/td>\n",
       "      <td>Home Office<\/td>\n",
       "      <td>United States<\/td>\n",
       "      <td>Gastonia<\/td>\n",
       "      <td>...<\/td>\n",
       "      <td>28052.0<\/td>\n",
       "      <td>South<\/td>\n",
       "      <td>TEC-AC-10004659<\/td>\n",
       "      <td>Technology<\/td>\n",
       "      <td>Accessories<\/td>\n",
       "      <td>Imation Secure+ Hardware Encrypted USB 2.0 Fla...<\/td>\n",
       "      <td>408.744<\/td>\n",
       "      <td>7<\/td>\n",
       "      <td>0.2<\/td>\n",
       "      <td>76.6395<\/td>\n",
       "    <\/tr>\n",
       "    <tr>\n",
       "      <th>...<\/th>\n",
       "      <td>...<\/td>\n",
       "      <td>...<\/td>\n",
       "      <td>...<\/td>\n",
       "      <td>...<\/td>\n",
       "      <td>...<\/td>\n",
       "      <td>...<\/td>\n",
       "      <td>...<\/td>\n",
       "      <td>...<\/td>\n",
       "      <td>...<\/td>\n",
       "      <td>...<\/td>\n",
       "      <td>...<\/td>\n",
       "      <td>...<\/td>\n",
       "      <td>...<\/td>\n",
       "      <td>...<\/td>\n",
       "      <td>...<\/td>\n",
       "      <td>...<\/td>\n",
       "      <td>...<\/td>\n",
       "      <td>...<\/td>\n",
       "      <td>...<\/td>\n",
       "      <td>...<\/td>\n",
       "      <td>...<\/td>\n",
       "    <\/tr>\n",
       "    <tr>\n",
       "      <th>4613<\/th>\n",
       "      <td>4614<\/td>\n",
       "      <td>US-2019-165953<\/td>\n",
       "      <td>2019-12-31<\/td>\n",
       "      <td>2020-01-06<\/td>\n",
       "      <td>Standard Class<\/td>\n",
       "      <td>EP-13915<\/td>\n",
       "      <td>Emily Phan<\/td>\n",
       "      <td>Consumer<\/td>\n",
       "      <td>United States<\/td>\n",
       "      <td>Jacksonville<\/td>\n",
       "      <td>...<\/td>\n",
       "      <td>32216.0<\/td>\n",
       "      <td>South<\/td>\n",
       "      <td>OFF-PA-10002250<\/td>\n",
       "      <td>Office Supplies<\/td>\n",
       "      <td>Paper<\/td>\n",
       "      <td>Things To Do Today Pad<\/td>\n",
       "      <td>23.480<\/td>\n",
       "      <td>5<\/td>\n",
       "      <td>0.2<\/td>\n",
       "      <td>8.2180<\/td>\n",
       "    <\/tr>\n",
       "    <tr>\n",
       "      <th>4612<\/th>\n",
       "      <td>4613<\/td>\n",
       "      <td>US-2019-165953<\/td>\n",
       "      <td>2019-12-31<\/td>\n",
       "      <td>2020-01-06<\/td>\n",
       "      <td>Standard Class<\/td>\n",
       "      <td>EP-13915<\/td>\n",
       "      <td>Emily Phan<\/td>\n",
       "      <td>Consumer<\/td>\n",
       "      <td>United States<\/td>\n",
       "      <td>Jacksonville<\/td>\n",
       "      <td>...<\/td>\n",
       "      <td>32216.0<\/td>\n",
       "      <td>South<\/td>\n",
       "      <td>OFF-AR-10000588<\/td>\n",
       "      <td>Office Supplies<\/td>\n",
       "      <td>Art<\/td>\n",
       "      <td>Newell 345<\/td>\n",
       "      <td>47.616<\/td>\n",
       "      <td>3<\/td>\n",
       "      <td>0.2<\/td>\n",
       "      <td>3.5712<\/td>\n",
       "    <\/tr>\n",
       "    <tr>\n",
       "      <th>2821<\/th>\n",
       "      <td>2822<\/td>\n",
       "      <td>CA-2019-100202<\/td>\n",
       "      <td>2019-12-31<\/td>\n",
       "      <td>2020-01-05<\/td>\n",
       "      <td>Standard Class<\/td>\n",
       "      <td>BD-11620<\/td>\n",
       "      <td>Brian DeCherney<\/td>\n",
       "      <td>Consumer<\/td>\n",
       "      <td>United States<\/td>\n",
       "      <td>Anaheim<\/td>\n",
       "      <td>...<\/td>\n",
       "      <td>92804.0<\/td>\n",
       "      <td>West<\/td>\n",
       "      <td>TEC-PH-10002563<\/td>\n",
       "      <td>Technology<\/td>\n",
       "      <td>Phones<\/td>\n",
       "      <td>Adtran 1202752G1<\/td>\n",
       "      <td>302.376<\/td>\n",
       "      <td>3<\/td>\n",
       "      <td>0.2<\/td>\n",
       "      <td>22.6782<\/td>\n",
       "    <\/tr>\n",
       "    <tr>\n",
       "      <th>6341<\/th>\n",
       "      <td>6342<\/td>\n",
       "      <td>US-2019-105830<\/td>\n",
       "      <td>2019-12-31<\/td>\n",
       "      <td>2020-01-02<\/td>\n",
       "      <td>First Class<\/td>\n",
       "      <td>DB-13660<\/td>\n",
       "      <td>Duane Benoit<\/td>\n",
       "      <td>Consumer<\/td>\n",
       "      <td>United States<\/td>\n",
       "      <td>Lancaster<\/td>\n",
       "      <td>...<\/td>\n",
       "      <td>43130.0<\/td>\n",
       "      <td>East<\/td>\n",
       "      <td>OFF-ST-10002554<\/td>\n",
       "      <td>Office Supplies<\/td>\n",
       "      <td>Storage<\/td>\n",
       "      <td>Tennsco Industrial Shelving<\/td>\n",
       "      <td>156.512<\/td>\n",
       "      <td>4<\/td>\n",
       "      <td>0.2<\/td>\n",
       "      <td>-35.2152<\/td>\n",
       "    <\/tr>\n",
       "    <tr>\n",
       "      <th>5738<\/th>\n",
       "      <td>5739<\/td>\n",
       "      <td>CA-2019-156139<\/td>\n",
       "      <td>2019-12-31<\/td>\n",
       "      <td>2020-01-06<\/td>\n",
       "      <td>Standard Class<\/td>\n",
       "      <td>BP-11155<\/td>\n",
       "      <td>Becky Pak<\/td>\n",
       "      <td>Consumer<\/td>\n",
       "      <td>United States<\/td>\n",
       "      <td>San Francisco<\/td>\n",
       "      <td>...<\/td>\n",
       "      <td>94109.0<\/td>\n",
       "      <td>West<\/td>\n",
       "      <td>OFF-BI-10004233<\/td>\n",
       "      <td>Office Supplies<\/td>\n",
       "      <td>Binders<\/td>\n",
       "      <td>GBC Pre-Punched Binding Paper, Plastic, White,...<\/td>\n",
       "      <td>38.376<\/td>\n",
       "      <td>3<\/td>\n",
       "      <td>0.2<\/td>\n",
       "      <td>13.4316<\/td>\n",
       "    <\/tr>\n",
       "  <\/tbody>\n",
       "<\/table>\n",
       "<p>2167 rows × 21 columns<\/p>\n",
       "<\/div>"
      ]
     },
     "metadata":{
      
     },
     "output_type":"display_data"
    }
   ],
   "metadata":{
    "datalore":{
     "node_id":"nYaOSTvCWJ64vbqlDQyEWC",
     "type":"CODE",
     "hide_input_from_viewers":false,
     "hide_output_from_viewers":false,
     "report_properties":{
      "y":89
     }
    }
   }
  },
  {
   "cell_type":"code",
   "source":[
    "# TODO 08 - what is the proportion of total sales (%) in West + Central in 2019 e.g. 25% \n",
    "\n",
    "\n",
    "## Filter Year\n",
    "df_2019 = df[(df[\"Order Date\"].dt.year == 2019)].copy()\n",
    "\n",
    "## Filter Data West + Central\n",
    "df_w_c_2019 = df_2019.query(\"Region == ['Central','West']\")\n",
    "\n",
    "# Sum Sales from West And Central\n",
    "sum_2019 = df_2019['Sales'].sum()\n",
    "sum_w_c_2019 = df_w_c_2019['Sales'].sum()\n",
    "\n",
    "result = (sum_w_c_2019\/sum_2019)*100\n",
    "\n",
    "print(f\"Total Proportion of sales in West + Central is {result.__round__()}%\")"
   ],
   "execution_count":null,
   "outputs":[
    {
     "name":"stdout",
     "text":[
      "Total Proportion of sales in West + Central is 55%\n"
     ],
     "output_type":"stream"
    }
   ],
   "metadata":{
    "datalore":{
     "node_id":"YMUya5EHAlvKZ6X5LJDtmM",
     "type":"CODE",
     "hide_input_from_viewers":false,
     "hide_output_from_viewers":false,
     "report_properties":{
      "y":92
     }
    }
   }
  },
  {
   "cell_type":"code",
   "source":[
    "# TODO 09 - find top 10 popular products in terms of number of orders vs. total sales during 2019-2020\n",
    "\n",
    "## Filter Year \n",
    "df_19_20 = df[(df[\"Order Date\"].dt.year == 2019) | (df[\"Order Date\"].dt.year == 2020)].reset_index().copy()\n",
    "\n",
    "product_count = df_19_20[['Product Name']].value_counts().reset_index()\n",
    "\n",
    "product_count.columns = ['Product Name','Count']\n",
    "\n",
    "product_sale = df_19_20.groupby('Product Name')['Sales'].sum().reset_index()\n",
    "\n",
    "df_p_left = pd.DataFrame(product_count)\n",
    "df_p_right = pd.DataFrame(product_sale)\n",
    "\n",
    "result = pd.merge(df_p_left,df_p_right, on = \"Product Name\")\n",
    "\n",
    "print(result.head(10))\n",
    "\n",
    "## refactoring\n",
    "\"\"\"\n",
    "\n",
    "df_19_20 = df[(df[\"Order Date\"].dt.year == 2019) | (df[\"Order Date\"].dt.year == 2020)].copy()\n",
    "\n",
    "result = df_19_20.groupby('Product Name').agg({'Product Name': 'count', 'Sales': 'sum'})\n",
    "result.rename(columns={'Product Name': 'Count'}, inplace=True)\n",
    "result.reset_index(inplace=True)\n",
    "\n",
    "print(result.head(10))\n",
    "\"\"\"\"\n",
    "\n"
   ],
   "execution_count":null,
   "outputs":[
    {
     "name":"stdout",
     "text":[
      "                                      Product Name  Count     Sales\n",
      "0                                Easy-staple paper     27  1481.728\n",
      "1                                          Staples     24   462.068\n",
      "2                                  Staple envelope     22   644.936\n",
      "3                          Staples in misc. colors     13   357.164\n",
      "4                                   Staple remover     12   204.512\n",
      "5                          Storex Dura Pro Binders     12   176.418\n",
      "6               Chromcraft Round Conference Tables     12  7965.053\n",
      "7  Global Wood Trimmed Manager's Task Chair, Khaki     11  2793.086\n",
      "8                          Avery Non-Stick Binders     11   122.128\n",
      "9                       Staple-based wall hangings     10   233.392\n"
     ],
     "output_type":"stream"
    },
    {
     "data":{
      "text\/plain":[
       "'\\n\\ndf_19_20 = df[(df[\"Order Date\"].dt.year == 2019) | (df[\"Order Date\"].dt.year == 2020)].copy()\\n\\nresult = df_19_20.groupby(\\'Product Name\\').agg({\\'Product Name\\': \\'count\\', \\'Sales\\': \\'sum\\'})\\nresult.rename(columns={\\'Product Name\\': \\'Count\\'}, inplace=True)\\nresult.reset_index(inplace=True)\\n\\nprint(result.head(10))\\n\\n'"
      ]
     },
     "metadata":{
      
     },
     "output_type":"display_data"
    }
   ],
   "metadata":{
    "datalore":{
     "node_id":"3jcHO1zMVePUY2YLz59z2U",
     "type":"CODE",
     "hide_input_from_viewers":false,
     "hide_output_from_viewers":false,
     "report_properties":{
      "y":95
     }
    }
   }
  },
  {
   "cell_type":"code",
   "source":[
    "# TODO 10 - plot at least 2 plots, any plot you think interesting :)\n",
    "\n",
    "## The Top 10 City that with the most profit \n",
    "# Prep Data\n",
    "city_profit = df.groupby('City')[\"Profit\"].sum().reset_index().sort_values(\"Profit\",ascending = False).head(10)\n",
    "\n",
    "\n",
    "city_profit.plot(x='City', y='Profit', kind='bar');"
   ],
   "execution_count":null,
   "outputs":[
    {
     "data":{
      "image\/png":"[encoded data removed]"
     },
     "metadata":{
      "image\/png":{
       
      }
     },
     "output_type":"display_data"
    }
   ],
   "metadata":{
    "datalore":{
     "node_id":"9ZyyiWfpIItXWps9lGDefG",
     "type":"CODE",
     "hide_input_from_viewers":false,
     "hide_output_from_viewers":false,
     "report_properties":{
      "y":98
     }
    }
   }
  },
  {
   "cell_type":"code",
   "source":[
    "# TODO 10 - plot at least 2 plots, any plot you think interesting :)\n",
    "\n",
    "## Best Sell category\n",
    "\n",
    "df_category = df_2019_2020.groupby([\"Category\"] )[\"Sales\"].sum()\n",
    "df_category.plot(kind=\"pie\", y = \"Sales\" , figsize=(10,10) )"
   ],
   "execution_count":null,
   "outputs":[
    {
     "data":{
      "image\/png":"[encoded data removed]"
     },
     "metadata":{
      "image\/png":{
       
      }
     },
     "output_type":"display_data"
    }
   ],
   "metadata":{
    "datalore":{
     "node_id":"BM1KseyR9svgeaIDqjSlp3",
     "type":"CODE",
     "hide_input_from_viewers":true,
     "hide_output_from_viewers":true,
     "report_properties":{
      
     }
    }
   }
  },
  {
   "cell_type":"code",
   "source":[
    "# TODO Bonus - use np.where() to create new column in dataframe to help you answer your own questions\n",
    "import numpy as np\n",
    "\n",
    "# How much Discount have been used\n",
    "\n",
    "print(np.sum(df['Discount']))\n",
    "\n",
    "## If Discount more than 0.5 is our Platinum Member find how many Platinum members\n",
    "\n",
    "Members = np.where(df['Discount'] >= 0.5, 'Platinum', 'Other')\n",
    "print(Members)\n",
    "\n",
    "df_members = pd.DataFrame(Members)\n",
    "\n",
    "df_members.columns = ['Member Type']\n",
    "\n",
    "df_members['Member Type'].value_counts()\n"
   ],
   "execution_count":null,
   "outputs":[
    {
     "name":"stdout",
     "text":[
      "1561.09\n",
      "['Other' 'Other' 'Other' ... 'Other' 'Other' 'Other']\n"
     ],
     "output_type":"stream"
    },
    {
     "data":{
      "text\/html":[
       "<pre>Other       9072\n",
       "Platinum     922\n",
       "Name: Member Type, dtype: int64<\/pre>"
      ]
     },
     "metadata":{
      
     },
     "output_type":"display_data"
    }
   ],
   "metadata":{
    "datalore":{
     "node_id":"0Hrag5AfiU5ffEOAdNFSeS",
     "type":"CODE",
     "hide_input_from_viewers":false,
     "hide_output_from_viewers":false,
     "report_properties":{
      "y":101
     }
    }
   }
  }
 ],
 "metadata":{
  "kernelspec":{
   "display_name":"Python",
   "language":"python",
   "name":"python"
  },
  "datalore":{
   "version":1,
   "computation_mode":"JUPYTER",
   "package_manager":"pip",
   "base_environment":"default",
   "packages":[
    
   ]
  }
 },
 "nbformat":4,
 "nbformat_minor":4
}